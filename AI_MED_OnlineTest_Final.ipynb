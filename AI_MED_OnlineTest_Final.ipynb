{
 "cells": [
  {
   "cell_type": "code",
   "execution_count": 1,
   "id": "e1e6c55f",
   "metadata": {},
   "outputs": [],
   "source": [
    "import tensorflow as tf\n",
    "from tensorflow import keras\n",
    "from tensorflow.keras import layers\n",
    "from tensorflow.keras.utils import plot_model\n",
    "import os"
   ]
  },
  {
   "cell_type": "code",
   "execution_count": 78,
   "id": "c56fcf7b",
   "metadata": {},
   "outputs": [
    {
     "name": "stdout",
     "output_type": "stream",
     "text": [
      "Found 9866 images belonging to 11 classes.\n",
      "Found 3430 images belonging to 11 classes.\n",
      "Found 3347 images belonging to 11 classes.\n"
     ]
    }
   ],
   "source": [
    "#決定主要變數\n",
    "img_size = 224\n",
    "batch_size = 64\n",
    "init_filter = 64\n",
    "epoch = 25\n",
    "cardinality = 0\n",
    "features = '-revised'\n",
    "\n",
    "#DataAugmentation\n",
    "train_datagen = tf.keras.preprocessing.image.ImageDataGenerator(\n",
    "    rescale=1./255,\n",
    "    shear_range=0.2,\n",
    "    zoom_range=0.2,\n",
    "    width_shift_range=0.2,\n",
    "    height_shift_range=0.2,\n",
    "    horizontal_flip=True,\n",
    "    vertical_flip=True,\n",
    "    rotation_range=20\n",
    "    )\n",
    "\n",
    "test_datagen = tf.keras.preprocessing.image.ImageDataGenerator(rescale=1./255)\n",
    "\n",
    "#載入資料集\n",
    "train_set = train_datagen.flow_from_directory(\n",
    "    'train',\n",
    "    target_size=(img_size, img_size),\n",
    "    color_mode='rgb',\n",
    "    classes=None,\n",
    "    class_mode='categorical',\n",
    "    batch_size=batch_size,\n",
    "    shuffle=True,\n",
    "    seed=None,\n",
    "    save_to_dir=None,\n",
    "    save_prefix='',\n",
    "    save_format='png',\n",
    "    follow_links=False,\n",
    "    subset=None,\n",
    "    interpolation='nearest',\n",
    "    keep_aspect_ratio=False   \n",
    ")\n",
    "\n",
    "\n",
    "valid_set = test_datagen.flow_from_directory(\n",
    "    'valid',\n",
    "    target_size=(img_size, img_size),\n",
    "    color_mode='rgb',\n",
    "    classes=None,\n",
    "    class_mode='categorical',\n",
    "    batch_size=batch_size,\n",
    "    shuffle=True,\n",
    "    seed=None,\n",
    "    save_to_dir=None,\n",
    "    save_prefix='',\n",
    "    save_format='png',\n",
    "    follow_links=False,\n",
    "    subset=None,\n",
    "    interpolation='nearest',\n",
    "    keep_aspect_ratio=False\n",
    ")\n",
    "\n",
    "#不會加入訓練，僅作為模型表現之參考\n",
    "test_set = test_datagen.flow_from_directory(\n",
    "    'test',\n",
    "    target_size=(img_size, img_size),\n",
    "    color_mode='rgb',\n",
    "    classes=None,\n",
    "    class_mode='categorical',\n",
    "    batch_size=batch_size,\n",
    "    shuffle=True,\n",
    "    seed=None,\n",
    "    save_to_dir=None,\n",
    "    save_prefix='',\n",
    "    save_format='png',\n",
    "    follow_links=False,\n",
    "    subset=None,\n",
    "    interpolation='nearest',\n",
    "    keep_aspect_ratio=False\n",
    ")"
   ]
  },
  {
   "cell_type": "code",
   "execution_count": 79,
   "id": "5fad7f00",
   "metadata": {},
   "outputs": [],
   "source": [
    "#觀察許多結構有類似表現，因此特別寫一個函數出來，避免後續程式碼過於冗長\n",
    "def transform_layer(x, filters, kernel_size):\n",
    "    out = layers.Conv2D(filters, kernel_size, padding='same')(x)\n",
    "    out = layers.BatchNormalization()(out)\n",
    "    out = layers.ReLU()(out)\n",
    "    return out\n",
    "\n",
    "#題目中左邊（cardinality=0，同時是後續實作Resnet50中的第二種bottleneck）與中間之residual block（cardinality!=0）\n",
    "def Residual_Block_1_2(inputs, filters, cardinality):\n",
    "    fx = transform_layer(inputs, filters, 1)   \n",
    "    if cardinality != 0:\n",
    "        layers_split = list()\n",
    "        for i in range(cardinality):\n",
    "            splits = transform_layer(fx, filters, 3)\n",
    "            layers_split.append(splits)\n",
    "        fx = tf.keras.layers.concatenate(layers_split)        \n",
    "    else:\n",
    "        fx = transform_layer(fx, filters, 3)\n",
    "        \n",
    "    fx = layers.Conv2D(4*filters, 1, padding='same')(fx)\n",
    "    fx = layers.BatchNormalization()(fx)\n",
    "    outputs = layers.Add()([fx,inputs])\n",
    "    outputs = layers.ReLU()(outputs)\n",
    "    return outputs\n",
    "    \n",
    "#題目中右邊之residual block\n",
    "def Residual_Block_3(inputs, filters):\n",
    "    x = layers.Conv2D(filters,1)(inputs)    \n",
    "    fx = transform_layer(inputs, filters/4,1)\n",
    "    fx1 = transform_layer(fx, filters/4,3)\n",
    "    fx2 = transform_layer(fx, filters/4,3)\n",
    "    fx3 = transform_layer(fx, filters/4,1)\n",
    "    \n",
    "    fx1 = tf.keras.layers.GlobalAveragePooling2D()(fx1)\n",
    "    fx4 = tf.keras.layers.Multiply()([fx1,fx2])\n",
    "    fx4 = transform_layer(fx4, filters,1)\n",
    "    \n",
    "    fx5 = tf.keras.layers.concatenate([fx3,fx4])\n",
    "    fx5 = layers.Conv2D(filters, 3, padding='same')(fx5)\n",
    "    fx5 = layers.BatchNormalization()(fx5)\n",
    "    \n",
    "    outputs = layers.Add()([x,fx4,fx5])\n",
    "    outputs = layers.ReLU()(outputs)\n",
    "    \n",
    "    return outputs   \n",
    "\n",
    "#後續實作Resnet50中的第一種bottleneck，且加入strides為變數\n",
    "def BTNK_1(inputs, filters, strides):\n",
    "    x = layers.Conv2D(4*filters, 1, strides=strides)(inputs)\n",
    "    x = layers.BatchNormalization()(x)\n",
    "    fx = layers.Conv2D(filters, 1, strides=strides)(inputs)\n",
    "    fx = layers.BatchNormalization()(fx)\n",
    "    fx = layers.ReLU()(fx)  \n",
    "    fx = transform_layer(fx, filters, 3)       \n",
    "    fx = layers.Conv2D(4*filters, 1)(fx)\n",
    "    fx = layers.BatchNormalization()(fx)\n",
    "    outputs = layers.Add()([x,fx])\n",
    "    outputs = layers.ReLU()(outputs)\n",
    "    return outputs"
   ]
  },
  {
   "cell_type": "code",
   "execution_count": 80,
   "id": "7090f93a",
   "metadata": {},
   "outputs": [
    {
     "name": "stdout",
     "output_type": "stream",
     "text": [
      "Model: \"model_17\"\n",
      "__________________________________________________________________________________________________\n",
      " Layer (type)                   Output Shape         Param #     Connected to                     \n",
      "==================================================================================================\n",
      " input_25 (InputLayer)          [(None, 224, 224, 3  0           []                               \n",
      "                                )]                                                                \n",
      "                                                                                                  \n",
      " conv2d_985 (Conv2D)            (None, 112, 112, 64  832         ['input_25[0][0]']               \n",
      "                                )                                                                 \n",
      "                                                                                                  \n",
      " batch_normalization_950 (Batch  (None, 112, 112, 64  256        ['conv2d_985[0][0]']             \n",
      " Normalization)                 )                                                                 \n",
      "                                                                                                  \n",
      " re_lu_902 (ReLU)               (None, 112, 112, 64  0           ['batch_normalization_950[0][0]']\n",
      "                                )                                                                 \n",
      "                                                                                                  \n",
      " max_pooling2d_24 (MaxPooling2D  (None, 56, 56, 64)  0           ['re_lu_902[0][0]']              \n",
      " )                                                                                                \n",
      "                                                                                                  \n",
      " conv2d_987 (Conv2D)            (None, 56, 56, 64)   4160        ['max_pooling2d_24[0][0]']       \n",
      "                                                                                                  \n",
      " batch_normalization_952 (Batch  (None, 56, 56, 64)  256         ['conv2d_987[0][0]']             \n",
      " Normalization)                                                                                   \n",
      "                                                                                                  \n",
      " re_lu_903 (ReLU)               (None, 56, 56, 64)   0           ['batch_normalization_952[0][0]']\n",
      "                                                                                                  \n",
      " conv2d_988 (Conv2D)            (None, 56, 56, 64)   36928       ['re_lu_903[0][0]']              \n",
      "                                                                                                  \n",
      " batch_normalization_953 (Batch  (None, 56, 56, 64)  256         ['conv2d_988[0][0]']             \n",
      " Normalization)                                                                                   \n",
      "                                                                                                  \n",
      " re_lu_904 (ReLU)               (None, 56, 56, 64)   0           ['batch_normalization_953[0][0]']\n",
      "                                                                                                  \n",
      " conv2d_986 (Conv2D)            (None, 56, 56, 256)  16640       ['max_pooling2d_24[0][0]']       \n",
      "                                                                                                  \n",
      " conv2d_989 (Conv2D)            (None, 56, 56, 256)  16640       ['re_lu_904[0][0]']              \n",
      "                                                                                                  \n",
      " batch_normalization_951 (Batch  (None, 56, 56, 256)  1024       ['conv2d_986[0][0]']             \n",
      " Normalization)                                                                                   \n",
      "                                                                                                  \n",
      " batch_normalization_954 (Batch  (None, 56, 56, 256)  1024       ['conv2d_989[0][0]']             \n",
      " Normalization)                                                                                   \n",
      "                                                                                                  \n",
      " add_294 (Add)                  (None, 56, 56, 256)  0           ['batch_normalization_951[0][0]',\n",
      "                                                                  'batch_normalization_954[0][0]']\n",
      "                                                                                                  \n",
      " re_lu_905 (ReLU)               (None, 56, 56, 256)  0           ['add_294[0][0]']                \n",
      "                                                                                                  \n",
      " conv2d_990 (Conv2D)            (None, 56, 56, 64)   16448       ['re_lu_905[0][0]']              \n",
      "                                                                                                  \n",
      " batch_normalization_955 (Batch  (None, 56, 56, 64)  256         ['conv2d_990[0][0]']             \n",
      " Normalization)                                                                                   \n",
      "                                                                                                  \n",
      " re_lu_906 (ReLU)               (None, 56, 56, 64)   0           ['batch_normalization_955[0][0]']\n",
      "                                                                                                  \n",
      " conv2d_991 (Conv2D)            (None, 56, 56, 64)   36928       ['re_lu_906[0][0]']              \n",
      "                                                                                                  \n",
      " batch_normalization_956 (Batch  (None, 56, 56, 64)  256         ['conv2d_991[0][0]']             \n",
      " Normalization)                                                                                   \n",
      "                                                                                                  \n",
      " re_lu_907 (ReLU)               (None, 56, 56, 64)   0           ['batch_normalization_956[0][0]']\n",
      "                                                                                                  \n",
      " conv2d_992 (Conv2D)            (None, 56, 56, 256)  16640       ['re_lu_907[0][0]']              \n",
      "                                                                                                  \n",
      " batch_normalization_957 (Batch  (None, 56, 56, 256)  1024       ['conv2d_992[0][0]']             \n",
      " Normalization)                                                                                   \n",
      "                                                                                                  \n",
      " add_295 (Add)                  (None, 56, 56, 256)  0           ['batch_normalization_957[0][0]',\n",
      "                                                                  're_lu_905[0][0]']              \n",
      "                                                                                                  \n",
      " re_lu_908 (ReLU)               (None, 56, 56, 256)  0           ['add_295[0][0]']                \n",
      "                                                                                                  \n",
      " conv2d_993 (Conv2D)            (None, 56, 56, 64)   16448       ['re_lu_908[0][0]']              \n",
      "                                                                                                  \n",
      " batch_normalization_958 (Batch  (None, 56, 56, 64)  256         ['conv2d_993[0][0]']             \n",
      " Normalization)                                                                                   \n",
      "                                                                                                  \n",
      " re_lu_909 (ReLU)               (None, 56, 56, 64)   0           ['batch_normalization_958[0][0]']\n",
      "                                                                                                  \n",
      " conv2d_994 (Conv2D)            (None, 56, 56, 64)   36928       ['re_lu_909[0][0]']              \n",
      "                                                                                                  \n",
      " batch_normalization_959 (Batch  (None, 56, 56, 64)  256         ['conv2d_994[0][0]']             \n",
      " Normalization)                                                                                   \n",
      "                                                                                                  \n"
     ]
    },
    {
     "name": "stdout",
     "output_type": "stream",
     "text": [
      " re_lu_910 (ReLU)               (None, 56, 56, 64)   0           ['batch_normalization_959[0][0]']\n",
      "                                                                                                  \n",
      " conv2d_995 (Conv2D)            (None, 56, 56, 256)  16640       ['re_lu_910[0][0]']              \n",
      "                                                                                                  \n",
      " batch_normalization_960 (Batch  (None, 56, 56, 256)  1024       ['conv2d_995[0][0]']             \n",
      " Normalization)                                                                                   \n",
      "                                                                                                  \n",
      " add_296 (Add)                  (None, 56, 56, 256)  0           ['batch_normalization_960[0][0]',\n",
      "                                                                  're_lu_908[0][0]']              \n",
      "                                                                                                  \n",
      " re_lu_911 (ReLU)               (None, 56, 56, 256)  0           ['add_296[0][0]']                \n",
      "                                                                                                  \n",
      " conv2d_997 (Conv2D)            (None, 28, 28, 128)  32896       ['re_lu_911[0][0]']              \n",
      "                                                                                                  \n",
      " batch_normalization_962 (Batch  (None, 28, 28, 128)  512        ['conv2d_997[0][0]']             \n",
      " Normalization)                                                                                   \n",
      "                                                                                                  \n",
      " re_lu_912 (ReLU)               (None, 28, 28, 128)  0           ['batch_normalization_962[0][0]']\n",
      "                                                                                                  \n",
      " conv2d_998 (Conv2D)            (None, 28, 28, 128)  147584      ['re_lu_912[0][0]']              \n",
      "                                                                                                  \n",
      " batch_normalization_963 (Batch  (None, 28, 28, 128)  512        ['conv2d_998[0][0]']             \n",
      " Normalization)                                                                                   \n",
      "                                                                                                  \n",
      " re_lu_913 (ReLU)               (None, 28, 28, 128)  0           ['batch_normalization_963[0][0]']\n",
      "                                                                                                  \n",
      " conv2d_996 (Conv2D)            (None, 28, 28, 512)  131584      ['re_lu_911[0][0]']              \n",
      "                                                                                                  \n",
      " conv2d_999 (Conv2D)            (None, 28, 28, 512)  66048       ['re_lu_913[0][0]']              \n",
      "                                                                                                  \n",
      " batch_normalization_961 (Batch  (None, 28, 28, 512)  2048       ['conv2d_996[0][0]']             \n",
      " Normalization)                                                                                   \n",
      "                                                                                                  \n",
      " batch_normalization_964 (Batch  (None, 28, 28, 512)  2048       ['conv2d_999[0][0]']             \n",
      " Normalization)                                                                                   \n",
      "                                                                                                  \n",
      " add_297 (Add)                  (None, 28, 28, 512)  0           ['batch_normalization_961[0][0]',\n",
      "                                                                  'batch_normalization_964[0][0]']\n",
      "                                                                                                  \n",
      " re_lu_914 (ReLU)               (None, 28, 28, 512)  0           ['add_297[0][0]']                \n",
      "                                                                                                  \n",
      " conv2d_1000 (Conv2D)           (None, 28, 28, 128)  65664       ['re_lu_914[0][0]']              \n",
      "                                                                                                  \n",
      " batch_normalization_965 (Batch  (None, 28, 28, 128)  512        ['conv2d_1000[0][0]']            \n",
      " Normalization)                                                                                   \n",
      "                                                                                                  \n",
      " re_lu_915 (ReLU)               (None, 28, 28, 128)  0           ['batch_normalization_965[0][0]']\n",
      "                                                                                                  \n",
      " conv2d_1001 (Conv2D)           (None, 28, 28, 128)  147584      ['re_lu_915[0][0]']              \n",
      "                                                                                                  \n",
      " batch_normalization_966 (Batch  (None, 28, 28, 128)  512        ['conv2d_1001[0][0]']            \n",
      " Normalization)                                                                                   \n",
      "                                                                                                  \n",
      " re_lu_916 (ReLU)               (None, 28, 28, 128)  0           ['batch_normalization_966[0][0]']\n",
      "                                                                                                  \n",
      " conv2d_1002 (Conv2D)           (None, 28, 28, 512)  66048       ['re_lu_916[0][0]']              \n",
      "                                                                                                  \n",
      " batch_normalization_967 (Batch  (None, 28, 28, 512)  2048       ['conv2d_1002[0][0]']            \n",
      " Normalization)                                                                                   \n",
      "                                                                                                  \n",
      " add_298 (Add)                  (None, 28, 28, 512)  0           ['batch_normalization_967[0][0]',\n",
      "                                                                  're_lu_914[0][0]']              \n",
      "                                                                                                  \n",
      " re_lu_917 (ReLU)               (None, 28, 28, 512)  0           ['add_298[0][0]']                \n",
      "                                                                                                  \n",
      " conv2d_1003 (Conv2D)           (None, 28, 28, 128)  65664       ['re_lu_917[0][0]']              \n",
      "                                                                                                  \n",
      " batch_normalization_968 (Batch  (None, 28, 28, 128)  512        ['conv2d_1003[0][0]']            \n",
      " Normalization)                                                                                   \n",
      "                                                                                                  \n",
      " re_lu_918 (ReLU)               (None, 28, 28, 128)  0           ['batch_normalization_968[0][0]']\n",
      "                                                                                                  \n",
      " conv2d_1004 (Conv2D)           (None, 28, 28, 128)  147584      ['re_lu_918[0][0]']              \n",
      "                                                                                                  \n",
      " batch_normalization_969 (Batch  (None, 28, 28, 128)  512        ['conv2d_1004[0][0]']            \n",
      " Normalization)                                                                                   \n",
      "                                                                                                  \n",
      " re_lu_919 (ReLU)               (None, 28, 28, 128)  0           ['batch_normalization_969[0][0]']\n",
      "                                                                                                  \n",
      " conv2d_1005 (Conv2D)           (None, 28, 28, 512)  66048       ['re_lu_919[0][0]']              \n",
      "                                                                                                  \n",
      " batch_normalization_970 (Batch  (None, 28, 28, 512)  2048       ['conv2d_1005[0][0]']            \n",
      " Normalization)                                                                                   \n"
     ]
    },
    {
     "name": "stdout",
     "output_type": "stream",
     "text": [
      "                                                                                                  \n",
      " add_299 (Add)                  (None, 28, 28, 512)  0           ['batch_normalization_970[0][0]',\n",
      "                                                                  're_lu_917[0][0]']              \n",
      "                                                                                                  \n",
      " re_lu_920 (ReLU)               (None, 28, 28, 512)  0           ['add_299[0][0]']                \n",
      "                                                                                                  \n",
      " conv2d_1006 (Conv2D)           (None, 28, 28, 128)  65664       ['re_lu_920[0][0]']              \n",
      "                                                                                                  \n",
      " batch_normalization_971 (Batch  (None, 28, 28, 128)  512        ['conv2d_1006[0][0]']            \n",
      " Normalization)                                                                                   \n",
      "                                                                                                  \n",
      " re_lu_921 (ReLU)               (None, 28, 28, 128)  0           ['batch_normalization_971[0][0]']\n",
      "                                                                                                  \n",
      " conv2d_1007 (Conv2D)           (None, 28, 28, 128)  147584      ['re_lu_921[0][0]']              \n",
      "                                                                                                  \n",
      " batch_normalization_972 (Batch  (None, 28, 28, 128)  512        ['conv2d_1007[0][0]']            \n",
      " Normalization)                                                                                   \n",
      "                                                                                                  \n",
      " re_lu_922 (ReLU)               (None, 28, 28, 128)  0           ['batch_normalization_972[0][0]']\n",
      "                                                                                                  \n",
      " conv2d_1008 (Conv2D)           (None, 28, 28, 512)  66048       ['re_lu_922[0][0]']              \n",
      "                                                                                                  \n",
      " batch_normalization_973 (Batch  (None, 28, 28, 512)  2048       ['conv2d_1008[0][0]']            \n",
      " Normalization)                                                                                   \n",
      "                                                                                                  \n",
      " add_300 (Add)                  (None, 28, 28, 512)  0           ['batch_normalization_973[0][0]',\n",
      "                                                                  're_lu_920[0][0]']              \n",
      "                                                                                                  \n",
      " re_lu_923 (ReLU)               (None, 28, 28, 512)  0           ['add_300[0][0]']                \n",
      "                                                                                                  \n",
      " conv2d_1010 (Conv2D)           (None, 14, 14, 256)  131328      ['re_lu_923[0][0]']              \n",
      "                                                                                                  \n",
      " batch_normalization_975 (Batch  (None, 14, 14, 256)  1024       ['conv2d_1010[0][0]']            \n",
      " Normalization)                                                                                   \n",
      "                                                                                                  \n",
      " re_lu_924 (ReLU)               (None, 14, 14, 256)  0           ['batch_normalization_975[0][0]']\n",
      "                                                                                                  \n",
      " conv2d_1011 (Conv2D)           (None, 14, 14, 256)  590080      ['re_lu_924[0][0]']              \n",
      "                                                                                                  \n",
      " batch_normalization_976 (Batch  (None, 14, 14, 256)  1024       ['conv2d_1011[0][0]']            \n",
      " Normalization)                                                                                   \n",
      "                                                                                                  \n",
      " re_lu_925 (ReLU)               (None, 14, 14, 256)  0           ['batch_normalization_976[0][0]']\n",
      "                                                                                                  \n",
      " conv2d_1009 (Conv2D)           (None, 14, 14, 1024  525312      ['re_lu_923[0][0]']              \n",
      "                                )                                                                 \n",
      "                                                                                                  \n",
      " conv2d_1012 (Conv2D)           (None, 14, 14, 1024  263168      ['re_lu_925[0][0]']              \n",
      "                                )                                                                 \n",
      "                                                                                                  \n",
      " batch_normalization_974 (Batch  (None, 14, 14, 1024  4096       ['conv2d_1009[0][0]']            \n",
      " Normalization)                 )                                                                 \n",
      "                                                                                                  \n",
      " batch_normalization_977 (Batch  (None, 14, 14, 1024  4096       ['conv2d_1012[0][0]']            \n",
      " Normalization)                 )                                                                 \n",
      "                                                                                                  \n",
      " add_301 (Add)                  (None, 14, 14, 1024  0           ['batch_normalization_974[0][0]',\n",
      "                                )                                 'batch_normalization_977[0][0]']\n",
      "                                                                                                  \n",
      " re_lu_926 (ReLU)               (None, 14, 14, 1024  0           ['add_301[0][0]']                \n",
      "                                )                                                                 \n",
      "                                                                                                  \n",
      " conv2d_1013 (Conv2D)           (None, 14, 14, 256)  262400      ['re_lu_926[0][0]']              \n",
      "                                                                                                  \n",
      " batch_normalization_978 (Batch  (None, 14, 14, 256)  1024       ['conv2d_1013[0][0]']            \n",
      " Normalization)                                                                                   \n",
      "                                                                                                  \n",
      " re_lu_927 (ReLU)               (None, 14, 14, 256)  0           ['batch_normalization_978[0][0]']\n",
      "                                                                                                  \n",
      " conv2d_1014 (Conv2D)           (None, 14, 14, 256)  590080      ['re_lu_927[0][0]']              \n",
      "                                                                                                  \n",
      " batch_normalization_979 (Batch  (None, 14, 14, 256)  1024       ['conv2d_1014[0][0]']            \n",
      " Normalization)                                                                                   \n",
      "                                                                                                  \n",
      " re_lu_928 (ReLU)               (None, 14, 14, 256)  0           ['batch_normalization_979[0][0]']\n",
      "                                                                                                  \n",
      " conv2d_1015 (Conv2D)           (None, 14, 14, 1024  263168      ['re_lu_928[0][0]']              \n",
      "                                )                                                                 \n",
      "                                                                                                  \n",
      " batch_normalization_980 (Batch  (None, 14, 14, 1024  4096       ['conv2d_1015[0][0]']            \n",
      " Normalization)                 )                                                                 \n",
      "                                                                                                  \n",
      " add_302 (Add)                  (None, 14, 14, 1024  0           ['batch_normalization_980[0][0]',\n"
     ]
    },
    {
     "name": "stdout",
     "output_type": "stream",
     "text": [
      "                                )                                 're_lu_926[0][0]']              \n",
      "                                                                                                  \n",
      " re_lu_929 (ReLU)               (None, 14, 14, 1024  0           ['add_302[0][0]']                \n",
      "                                )                                                                 \n",
      "                                                                                                  \n",
      " conv2d_1016 (Conv2D)           (None, 14, 14, 256)  262400      ['re_lu_929[0][0]']              \n",
      "                                                                                                  \n",
      " batch_normalization_981 (Batch  (None, 14, 14, 256)  1024       ['conv2d_1016[0][0]']            \n",
      " Normalization)                                                                                   \n",
      "                                                                                                  \n",
      " re_lu_930 (ReLU)               (None, 14, 14, 256)  0           ['batch_normalization_981[0][0]']\n",
      "                                                                                                  \n",
      " conv2d_1017 (Conv2D)           (None, 14, 14, 256)  590080      ['re_lu_930[0][0]']              \n",
      "                                                                                                  \n",
      " batch_normalization_982 (Batch  (None, 14, 14, 256)  1024       ['conv2d_1017[0][0]']            \n",
      " Normalization)                                                                                   \n",
      "                                                                                                  \n",
      " re_lu_931 (ReLU)               (None, 14, 14, 256)  0           ['batch_normalization_982[0][0]']\n",
      "                                                                                                  \n",
      " conv2d_1018 (Conv2D)           (None, 14, 14, 1024  263168      ['re_lu_931[0][0]']              \n",
      "                                )                                                                 \n",
      "                                                                                                  \n",
      " batch_normalization_983 (Batch  (None, 14, 14, 1024  4096       ['conv2d_1018[0][0]']            \n",
      " Normalization)                 )                                                                 \n",
      "                                                                                                  \n",
      " add_303 (Add)                  (None, 14, 14, 1024  0           ['batch_normalization_983[0][0]',\n",
      "                                )                                 're_lu_929[0][0]']              \n",
      "                                                                                                  \n",
      " re_lu_932 (ReLU)               (None, 14, 14, 1024  0           ['add_303[0][0]']                \n",
      "                                )                                                                 \n",
      "                                                                                                  \n",
      " conv2d_1019 (Conv2D)           (None, 14, 14, 256)  262400      ['re_lu_932[0][0]']              \n",
      "                                                                                                  \n",
      " batch_normalization_984 (Batch  (None, 14, 14, 256)  1024       ['conv2d_1019[0][0]']            \n",
      " Normalization)                                                                                   \n",
      "                                                                                                  \n",
      " re_lu_933 (ReLU)               (None, 14, 14, 256)  0           ['batch_normalization_984[0][0]']\n",
      "                                                                                                  \n",
      " conv2d_1020 (Conv2D)           (None, 14, 14, 256)  590080      ['re_lu_933[0][0]']              \n",
      "                                                                                                  \n",
      " batch_normalization_985 (Batch  (None, 14, 14, 256)  1024       ['conv2d_1020[0][0]']            \n",
      " Normalization)                                                                                   \n",
      "                                                                                                  \n",
      " re_lu_934 (ReLU)               (None, 14, 14, 256)  0           ['batch_normalization_985[0][0]']\n",
      "                                                                                                  \n",
      " conv2d_1021 (Conv2D)           (None, 14, 14, 1024  263168      ['re_lu_934[0][0]']              \n",
      "                                )                                                                 \n",
      "                                                                                                  \n",
      " batch_normalization_986 (Batch  (None, 14, 14, 1024  4096       ['conv2d_1021[0][0]']            \n",
      " Normalization)                 )                                                                 \n",
      "                                                                                                  \n",
      " add_304 (Add)                  (None, 14, 14, 1024  0           ['batch_normalization_986[0][0]',\n",
      "                                )                                 're_lu_932[0][0]']              \n",
      "                                                                                                  \n",
      " re_lu_935 (ReLU)               (None, 14, 14, 1024  0           ['add_304[0][0]']                \n",
      "                                )                                                                 \n",
      "                                                                                                  \n",
      " conv2d_1022 (Conv2D)           (None, 14, 14, 256)  262400      ['re_lu_935[0][0]']              \n",
      "                                                                                                  \n",
      " batch_normalization_987 (Batch  (None, 14, 14, 256)  1024       ['conv2d_1022[0][0]']            \n",
      " Normalization)                                                                                   \n",
      "                                                                                                  \n",
      " re_lu_936 (ReLU)               (None, 14, 14, 256)  0           ['batch_normalization_987[0][0]']\n",
      "                                                                                                  \n",
      " conv2d_1023 (Conv2D)           (None, 14, 14, 256)  590080      ['re_lu_936[0][0]']              \n",
      "                                                                                                  \n",
      " batch_normalization_988 (Batch  (None, 14, 14, 256)  1024       ['conv2d_1023[0][0]']            \n",
      " Normalization)                                                                                   \n",
      "                                                                                                  \n",
      " re_lu_937 (ReLU)               (None, 14, 14, 256)  0           ['batch_normalization_988[0][0]']\n",
      "                                                                                                  \n",
      " conv2d_1024 (Conv2D)           (None, 14, 14, 1024  263168      ['re_lu_937[0][0]']              \n",
      "                                )                                                                 \n",
      "                                                                                                  \n",
      " batch_normalization_989 (Batch  (None, 14, 14, 1024  4096       ['conv2d_1024[0][0]']            \n",
      " Normalization)                 )                                                                 \n",
      "                                                                                                  \n",
      " add_305 (Add)                  (None, 14, 14, 1024  0           ['batch_normalization_989[0][0]',\n",
      "                                )                                 're_lu_935[0][0]']              \n",
      "                                                                                                  \n",
      " re_lu_938 (ReLU)               (None, 14, 14, 1024  0           ['add_305[0][0]']                \n",
      "                                )                                                                 \n",
      "                                                                                                  \n"
     ]
    },
    {
     "name": "stdout",
     "output_type": "stream",
     "text": [
      " conv2d_1025 (Conv2D)           (None, 14, 14, 256)  262400      ['re_lu_938[0][0]']              \n",
      "                                                                                                  \n",
      " batch_normalization_990 (Batch  (None, 14, 14, 256)  1024       ['conv2d_1025[0][0]']            \n",
      " Normalization)                                                                                   \n",
      "                                                                                                  \n",
      " re_lu_939 (ReLU)               (None, 14, 14, 256)  0           ['batch_normalization_990[0][0]']\n",
      "                                                                                                  \n",
      " conv2d_1026 (Conv2D)           (None, 14, 14, 256)  590080      ['re_lu_939[0][0]']              \n",
      "                                                                                                  \n",
      " batch_normalization_991 (Batch  (None, 14, 14, 256)  1024       ['conv2d_1026[0][0]']            \n",
      " Normalization)                                                                                   \n",
      "                                                                                                  \n",
      " re_lu_940 (ReLU)               (None, 14, 14, 256)  0           ['batch_normalization_991[0][0]']\n",
      "                                                                                                  \n",
      " conv2d_1027 (Conv2D)           (None, 14, 14, 1024  263168      ['re_lu_940[0][0]']              \n",
      "                                )                                                                 \n",
      "                                                                                                  \n",
      " batch_normalization_992 (Batch  (None, 14, 14, 1024  4096       ['conv2d_1027[0][0]']            \n",
      " Normalization)                 )                                                                 \n",
      "                                                                                                  \n",
      " add_306 (Add)                  (None, 14, 14, 1024  0           ['batch_normalization_992[0][0]',\n",
      "                                )                                 're_lu_938[0][0]']              \n",
      "                                                                                                  \n",
      " re_lu_941 (ReLU)               (None, 14, 14, 1024  0           ['add_306[0][0]']                \n",
      "                                )                                                                 \n",
      "                                                                                                  \n",
      " conv2d_1029 (Conv2D)           (None, 7, 7, 512)    524800      ['re_lu_941[0][0]']              \n",
      "                                                                                                  \n",
      " batch_normalization_994 (Batch  (None, 7, 7, 512)   2048        ['conv2d_1029[0][0]']            \n",
      " Normalization)                                                                                   \n",
      "                                                                                                  \n",
      " re_lu_942 (ReLU)               (None, 7, 7, 512)    0           ['batch_normalization_994[0][0]']\n",
      "                                                                                                  \n",
      " conv2d_1030 (Conv2D)           (None, 7, 7, 512)    2359808     ['re_lu_942[0][0]']              \n",
      "                                                                                                  \n",
      " batch_normalization_995 (Batch  (None, 7, 7, 512)   2048        ['conv2d_1030[0][0]']            \n",
      " Normalization)                                                                                   \n",
      "                                                                                                  \n",
      " re_lu_943 (ReLU)               (None, 7, 7, 512)    0           ['batch_normalization_995[0][0]']\n",
      "                                                                                                  \n",
      " conv2d_1028 (Conv2D)           (None, 7, 7, 2048)   2099200     ['re_lu_941[0][0]']              \n",
      "                                                                                                  \n",
      " conv2d_1031 (Conv2D)           (None, 7, 7, 2048)   1050624     ['re_lu_943[0][0]']              \n",
      "                                                                                                  \n",
      " batch_normalization_993 (Batch  (None, 7, 7, 2048)  8192        ['conv2d_1028[0][0]']            \n",
      " Normalization)                                                                                   \n",
      "                                                                                                  \n",
      " batch_normalization_996 (Batch  (None, 7, 7, 2048)  8192        ['conv2d_1031[0][0]']            \n",
      " Normalization)                                                                                   \n",
      "                                                                                                  \n",
      " add_307 (Add)                  (None, 7, 7, 2048)   0           ['batch_normalization_993[0][0]',\n",
      "                                                                  'batch_normalization_996[0][0]']\n",
      "                                                                                                  \n",
      " re_lu_944 (ReLU)               (None, 7, 7, 2048)   0           ['add_307[0][0]']                \n",
      "                                                                                                  \n",
      " conv2d_1032 (Conv2D)           (None, 7, 7, 512)    1049088     ['re_lu_944[0][0]']              \n",
      "                                                                                                  \n",
      " batch_normalization_997 (Batch  (None, 7, 7, 512)   2048        ['conv2d_1032[0][0]']            \n",
      " Normalization)                                                                                   \n",
      "                                                                                                  \n",
      " re_lu_945 (ReLU)               (None, 7, 7, 512)    0           ['batch_normalization_997[0][0]']\n",
      "                                                                                                  \n",
      " conv2d_1033 (Conv2D)           (None, 7, 7, 512)    2359808     ['re_lu_945[0][0]']              \n",
      "                                                                                                  \n",
      " batch_normalization_998 (Batch  (None, 7, 7, 512)   2048        ['conv2d_1033[0][0]']            \n",
      " Normalization)                                                                                   \n",
      "                                                                                                  \n",
      " re_lu_946 (ReLU)               (None, 7, 7, 512)    0           ['batch_normalization_998[0][0]']\n",
      "                                                                                                  \n",
      " conv2d_1034 (Conv2D)           (None, 7, 7, 2048)   1050624     ['re_lu_946[0][0]']              \n",
      "                                                                                                  \n",
      " batch_normalization_999 (Batch  (None, 7, 7, 2048)  8192        ['conv2d_1034[0][0]']            \n",
      " Normalization)                                                                                   \n",
      "                                                                                                  \n",
      " add_308 (Add)                  (None, 7, 7, 2048)   0           ['batch_normalization_999[0][0]',\n",
      "                                                                  're_lu_944[0][0]']              \n",
      "                                                                                                  \n",
      " re_lu_947 (ReLU)               (None, 7, 7, 2048)   0           ['add_308[0][0]']                \n",
      "                                                                                                  \n",
      " conv2d_1035 (Conv2D)           (None, 7, 7, 512)    1049088     ['re_lu_947[0][0]']              \n",
      "                                                                                                  \n",
      " batch_normalization_1000 (Batc  (None, 7, 7, 512)   2048        ['conv2d_1035[0][0]']            \n",
      " hNormalization)                                                                                  \n"
     ]
    },
    {
     "name": "stdout",
     "output_type": "stream",
     "text": [
      "                                                                                                  \n",
      " re_lu_948 (ReLU)               (None, 7, 7, 512)    0           ['batch_normalization_1000[0][0]'\n",
      "                                                                 ]                                \n",
      "                                                                                                  \n",
      " conv2d_1036 (Conv2D)           (None, 7, 7, 512)    2359808     ['re_lu_948[0][0]']              \n",
      "                                                                                                  \n",
      " batch_normalization_1001 (Batc  (None, 7, 7, 512)   2048        ['conv2d_1036[0][0]']            \n",
      " hNormalization)                                                                                  \n",
      "                                                                                                  \n",
      " re_lu_949 (ReLU)               (None, 7, 7, 512)    0           ['batch_normalization_1001[0][0]'\n",
      "                                                                 ]                                \n",
      "                                                                                                  \n",
      " conv2d_1037 (Conv2D)           (None, 7, 7, 2048)   1050624     ['re_lu_949[0][0]']              \n",
      "                                                                                                  \n",
      " batch_normalization_1002 (Batc  (None, 7, 7, 2048)  8192        ['conv2d_1037[0][0]']            \n",
      " hNormalization)                                                                                  \n",
      "                                                                                                  \n",
      " add_309 (Add)                  (None, 7, 7, 2048)   0           ['batch_normalization_1002[0][0]'\n",
      "                                                                 , 're_lu_947[0][0]']             \n",
      "                                                                                                  \n",
      " re_lu_950 (ReLU)               (None, 7, 7, 2048)   0           ['add_309[0][0]']                \n",
      "                                                                                                  \n",
      " average_pooling2d_17 (AverageP  (None, 3, 3, 2048)  0           ['re_lu_950[0][0]']              \n",
      " ooling2D)                                                                                        \n",
      "                                                                                                  \n",
      " flatten_17 (Flatten)           (None, 18432)        0           ['average_pooling2d_17[0][0]']   \n",
      "                                                                                                  \n",
      " dense_17 (Dense)               (None, 11)           202763      ['flatten_17[0][0]']             \n",
      "                                                                                                  \n",
      "==================================================================================================\n",
      "Total params: 23,781,835\n",
      "Trainable params: 23,728,715\n",
      "Non-trainable params: 53,120\n",
      "__________________________________________________________________________________________________\n"
     ]
    }
   ],
   "source": [
    "#Resnet50_stage_input\n",
    "inputs = keras.Input(shape=(img_size, img_size, 3))\n",
    "\n",
    "filters = init_filter\n",
    "#Resnet50_stage_0\n",
    "x = layers.Conv2D(filters, 2, strides=2)(inputs)\n",
    "x = layers.BatchNormalization()(x)\n",
    "x = layers.ReLU()(x)\n",
    "x = layers.MaxPool2D(pool_size=3, strides=2,padding='same')(x)\n",
    "\n",
    "\n",
    "#Resnet50_stage_1\n",
    "x = BTNK_1(x, filters, 1)\n",
    "x = Residual_Block_1_2(x, filters, cardinality)\n",
    "x = Residual_Block_1_2(x, filters, cardinality)\n",
    "\n",
    "#Resnet50_stage_2\n",
    "filters = filters*2\n",
    "x = BTNK_1(x, filters, 2)\n",
    "x = Residual_Block_1_2(x, filters, cardinality)\n",
    "x = Residual_Block_1_2(x, filters, cardinality)\n",
    "x = Residual_Block_1_2(x, filters, cardinality)\n",
    "\n",
    "#Resnet50_stage_3\n",
    "filters = filters*2\n",
    "x = BTNK_1(x, filters, 2)\n",
    "x = Residual_Block_1_2(x, filters, cardinality)\n",
    "x = Residual_Block_1_2(x, filters, cardinality)\n",
    "x = Residual_Block_1_2(x, filters, cardinality)\n",
    "x = Residual_Block_1_2(x, filters, cardinality)\n",
    "x = Residual_Block_1_2(x, filters, cardinality)\n",
    "\n",
    "#Resnet50_stage_4\n",
    "filters = filters*2\n",
    "x = BTNK_1(x, filters, 2)\n",
    "x = Residual_Block_1_2(x, filters, cardinality)\n",
    "x = Residual_Block_1_2(x, filters, cardinality)\n",
    "\n",
    "#Resnet50_stage_output\n",
    "x = layers.AveragePooling2D()(x)\n",
    "x = tf.keras.layers.Flatten()(x)\n",
    "outputs = layers.Dense(11, activation='softmax')(x)\n",
    "model = keras.Model(inputs=inputs,outputs=outputs)\n",
    "model.summary()"
   ]
  },
  {
   "cell_type": "code",
   "execution_count": 81,
   "id": "1bce70eb",
   "metadata": {},
   "outputs": [
    {
     "name": "stdout",
     "output_type": "stream",
     "text": [
      "Epoch 1/25\n"
     ]
    },
    {
     "name": "stderr",
     "output_type": "stream",
     "text": [
      "2022-09-05 18:21:51.091428: I tensorflow/core/grappler/optimizers/custom_graph_optimizer_registry.cc:113] Plugin optimizer for device_type GPU is enabled.\n"
     ]
    },
    {
     "name": "stdout",
     "output_type": "stream",
     "text": [
      "155/155 [==============================] - ETA: 0s - loss: 3.1790 - categorical_accuracy: 0.2103"
     ]
    },
    {
     "name": "stderr",
     "output_type": "stream",
     "text": [
      "2022-09-05 18:29:56.084305: I tensorflow/core/grappler/optimizers/custom_graph_optimizer_registry.cc:113] Plugin optimizer for device_type GPU is enabled.\n",
      "WARNING:absl:Found untraced functions such as _jit_compiled_convolution_op, _jit_compiled_convolution_op, _jit_compiled_convolution_op, _jit_compiled_convolution_op, _jit_compiled_convolution_op while saving (showing 5 of 53). These functions will not be directly callable after loading.\n"
     ]
    },
    {
     "name": "stdout",
     "output_type": "stream",
     "text": [
      "INFO:tensorflow:Assets written to: online_test/models/img_size-224-batch_size-64-init_filter-64-epoch-25-revised-best-model.online_test/assets\n"
     ]
    },
    {
     "name": "stderr",
     "output_type": "stream",
     "text": [
      "INFO:tensorflow:Assets written to: online_test/models/img_size-224-batch_size-64-init_filter-64-epoch-25-revised-best-model.online_test/assets\n"
     ]
    },
    {
     "name": "stdout",
     "output_type": "stream",
     "text": [
      "155/155 [==============================] - 557s 4s/step - loss: 3.1790 - categorical_accuracy: 0.2103 - val_loss: 2.9321 - val_categorical_accuracy: 0.0504\n",
      "Epoch 2/25\n",
      "155/155 [==============================] - ETA: 0s - loss: 1.9715 - categorical_accuracy: 0.3110"
     ]
    },
    {
     "name": "stderr",
     "output_type": "stream",
     "text": [
      "WARNING:absl:Found untraced functions such as _jit_compiled_convolution_op, _jit_compiled_convolution_op, _jit_compiled_convolution_op, _jit_compiled_convolution_op, _jit_compiled_convolution_op while saving (showing 5 of 53). These functions will not be directly callable after loading.\n"
     ]
    },
    {
     "name": "stdout",
     "output_type": "stream",
     "text": [
      "INFO:tensorflow:Assets written to: online_test/models/img_size-224-batch_size-64-init_filter-64-epoch-25-revised-best-model.online_test/assets\n"
     ]
    },
    {
     "name": "stderr",
     "output_type": "stream",
     "text": [
      "INFO:tensorflow:Assets written to: online_test/models/img_size-224-batch_size-64-init_filter-64-epoch-25-revised-best-model.online_test/assets\n"
     ]
    },
    {
     "name": "stdout",
     "output_type": "stream",
     "text": [
      "155/155 [==============================] - 527s 3s/step - loss: 1.9715 - categorical_accuracy: 0.3110 - val_loss: 3.0346 - val_categorical_accuracy: 0.1487\n",
      "Epoch 3/25\n",
      "155/155 [==============================] - ETA: 0s - loss: 1.8229 - categorical_accuracy: 0.3668"
     ]
    },
    {
     "name": "stderr",
     "output_type": "stream",
     "text": [
      "WARNING:absl:Found untraced functions such as _jit_compiled_convolution_op, _jit_compiled_convolution_op, _jit_compiled_convolution_op, _jit_compiled_convolution_op, _jit_compiled_convolution_op while saving (showing 5 of 53). These functions will not be directly callable after loading.\n"
     ]
    },
    {
     "name": "stdout",
     "output_type": "stream",
     "text": [
      "INFO:tensorflow:Assets written to: online_test/models/img_size-224-batch_size-64-init_filter-64-epoch-25-revised-best-model.online_test/assets\n"
     ]
    },
    {
     "name": "stderr",
     "output_type": "stream",
     "text": [
      "INFO:tensorflow:Assets written to: online_test/models/img_size-224-batch_size-64-init_filter-64-epoch-25-revised-best-model.online_test/assets\n"
     ]
    },
    {
     "name": "stdout",
     "output_type": "stream",
     "text": [
      "155/155 [==============================] - 544s 4s/step - loss: 1.8229 - categorical_accuracy: 0.3668 - val_loss: 2.8456 - val_categorical_accuracy: 0.1913\n",
      "Epoch 4/25\n",
      "155/155 [==============================] - ETA: 0s - loss: 1.7842 - categorical_accuracy: 0.3808"
     ]
    },
    {
     "name": "stderr",
     "output_type": "stream",
     "text": [
      "WARNING:absl:Found untraced functions such as _jit_compiled_convolution_op, _jit_compiled_convolution_op, _jit_compiled_convolution_op, _jit_compiled_convolution_op, _jit_compiled_convolution_op while saving (showing 5 of 53). These functions will not be directly callable after loading.\n"
     ]
    },
    {
     "name": "stdout",
     "output_type": "stream",
     "text": [
      "INFO:tensorflow:Assets written to: online_test/models/img_size-224-batch_size-64-init_filter-64-epoch-25-revised-best-model.online_test/assets\n"
     ]
    },
    {
     "name": "stderr",
     "output_type": "stream",
     "text": [
      "INFO:tensorflow:Assets written to: online_test/models/img_size-224-batch_size-64-init_filter-64-epoch-25-revised-best-model.online_test/assets\n"
     ]
    },
    {
     "name": "stdout",
     "output_type": "stream",
     "text": [
      "155/155 [==============================] - 526s 3s/step - loss: 1.7842 - categorical_accuracy: 0.3808 - val_loss: 1.8463 - val_categorical_accuracy: 0.3688\n",
      "Epoch 5/25\n",
      "155/155 [==============================] - ETA: 0s - loss: 1.7416 - categorical_accuracy: 0.3952"
     ]
    },
    {
     "name": "stderr",
     "output_type": "stream",
     "text": [
      "WARNING:absl:Found untraced functions such as _jit_compiled_convolution_op, _jit_compiled_convolution_op, _jit_compiled_convolution_op, _jit_compiled_convolution_op, _jit_compiled_convolution_op while saving (showing 5 of 53). These functions will not be directly callable after loading.\n"
     ]
    },
    {
     "name": "stdout",
     "output_type": "stream",
     "text": [
      "INFO:tensorflow:Assets written to: online_test/models/img_size-224-batch_size-64-init_filter-64-epoch-25-revised-best-model.online_test/assets\n"
     ]
    },
    {
     "name": "stderr",
     "output_type": "stream",
     "text": [
      "INFO:tensorflow:Assets written to: online_test/models/img_size-224-batch_size-64-init_filter-64-epoch-25-revised-best-model.online_test/assets\n"
     ]
    },
    {
     "name": "stdout",
     "output_type": "stream",
     "text": [
      "155/155 [==============================] - 492s 3s/step - loss: 1.7416 - categorical_accuracy: 0.3952 - val_loss: 1.8323 - val_categorical_accuracy: 0.3886\n",
      "Epoch 6/25\n",
      "155/155 [==============================] - ETA: 0s - loss: 1.6651 - categorical_accuracy: 0.4215"
     ]
    },
    {
     "name": "stderr",
     "output_type": "stream",
     "text": [
      "WARNING:absl:Found untraced functions such as _jit_compiled_convolution_op, _jit_compiled_convolution_op, _jit_compiled_convolution_op, _jit_compiled_convolution_op, _jit_compiled_convolution_op while saving (showing 5 of 53). These functions will not be directly callable after loading.\n"
     ]
    },
    {
     "name": "stdout",
     "output_type": "stream",
     "text": [
      "INFO:tensorflow:Assets written to: online_test/models/img_size-224-batch_size-64-init_filter-64-epoch-25-revised-best-model.online_test/assets\n"
     ]
    },
    {
     "name": "stderr",
     "output_type": "stream",
     "text": [
      "INFO:tensorflow:Assets written to: online_test/models/img_size-224-batch_size-64-init_filter-64-epoch-25-revised-best-model.online_test/assets\n"
     ]
    },
    {
     "name": "stdout",
     "output_type": "stream",
     "text": [
      "155/155 [==============================] - 479s 3s/step - loss: 1.6651 - categorical_accuracy: 0.4215 - val_loss: 1.8209 - val_categorical_accuracy: 0.4076\n",
      "Epoch 7/25\n",
      "155/155 [==============================] - 459s 3s/step - loss: 1.6481 - categorical_accuracy: 0.4334 - val_loss: 3.1562 - val_categorical_accuracy: 0.1525\n",
      "Epoch 8/25\n",
      "155/155 [==============================] - 458s 3s/step - loss: 1.7525 - categorical_accuracy: 0.3908 - val_loss: 3.3655 - val_categorical_accuracy: 0.1414\n",
      "Epoch 9/25\n",
      "155/155 [==============================] - 473s 3s/step - loss: 1.6589 - categorical_accuracy: 0.4285 - val_loss: 2.6901 - val_categorical_accuracy: 0.3099\n",
      "Epoch 10/25\n",
      "155/155 [==============================] - ETA: 0s - loss: 1.5764 - categorical_accuracy: 0.4520"
     ]
    },
    {
     "name": "stderr",
     "output_type": "stream",
     "text": [
      "WARNING:absl:Found untraced functions such as _jit_compiled_convolution_op, _jit_compiled_convolution_op, _jit_compiled_convolution_op, _jit_compiled_convolution_op, _jit_compiled_convolution_op while saving (showing 5 of 53). These functions will not be directly callable after loading.\n"
     ]
    },
    {
     "name": "stdout",
     "output_type": "stream",
     "text": [
      "INFO:tensorflow:Assets written to: online_test/models/img_size-224-batch_size-64-init_filter-64-epoch-25-revised-best-model.online_test/assets\n"
     ]
    },
    {
     "name": "stderr",
     "output_type": "stream",
     "text": [
      "INFO:tensorflow:Assets written to: online_test/models/img_size-224-batch_size-64-init_filter-64-epoch-25-revised-best-model.online_test/assets\n"
     ]
    },
    {
     "name": "stdout",
     "output_type": "stream",
     "text": [
      "155/155 [==============================] - 489s 3s/step - loss: 1.5764 - categorical_accuracy: 0.4520 - val_loss: 1.9208 - val_categorical_accuracy: 0.4079\n",
      "Epoch 11/25\n",
      "155/155 [==============================] - ETA: 0s - loss: 1.5301 - categorical_accuracy: 0.4688"
     ]
    },
    {
     "name": "stderr",
     "output_type": "stream",
     "text": [
      "WARNING:absl:Found untraced functions such as _jit_compiled_convolution_op, _jit_compiled_convolution_op, _jit_compiled_convolution_op, _jit_compiled_convolution_op, _jit_compiled_convolution_op while saving (showing 5 of 53). These functions will not be directly callable after loading.\n"
     ]
    },
    {
     "name": "stdout",
     "output_type": "stream",
     "text": [
      "INFO:tensorflow:Assets written to: online_test/models/img_size-224-batch_size-64-init_filter-64-epoch-25-revised-best-model.online_test/assets\n"
     ]
    },
    {
     "name": "stderr",
     "output_type": "stream",
     "text": [
      "INFO:tensorflow:Assets written to: online_test/models/img_size-224-batch_size-64-init_filter-64-epoch-25-revised-best-model.online_test/assets\n"
     ]
    },
    {
     "name": "stdout",
     "output_type": "stream",
     "text": [
      "155/155 [==============================] - 467s 3s/step - loss: 1.5301 - categorical_accuracy: 0.4688 - val_loss: 1.7303 - val_categorical_accuracy: 0.4388\n",
      "Epoch 12/25\n",
      "155/155 [==============================] - 447s 3s/step - loss: 1.4781 - categorical_accuracy: 0.4914 - val_loss: 2.1079 - val_categorical_accuracy: 0.3743\n",
      "Epoch 13/25\n",
      "155/155 [==============================] - ETA: 0s - loss: 1.4675 - categorical_accuracy: 0.4981"
     ]
    },
    {
     "name": "stderr",
     "output_type": "stream",
     "text": [
      "WARNING:absl:Found untraced functions such as _jit_compiled_convolution_op, _jit_compiled_convolution_op, _jit_compiled_convolution_op, _jit_compiled_convolution_op, _jit_compiled_convolution_op while saving (showing 5 of 53). These functions will not be directly callable after loading.\n"
     ]
    },
    {
     "name": "stdout",
     "output_type": "stream",
     "text": [
      "INFO:tensorflow:Assets written to: online_test/models/img_size-224-batch_size-64-init_filter-64-epoch-25-revised-best-model.online_test/assets\n"
     ]
    },
    {
     "name": "stderr",
     "output_type": "stream",
     "text": [
      "INFO:tensorflow:Assets written to: online_test/models/img_size-224-batch_size-64-init_filter-64-epoch-25-revised-best-model.online_test/assets\n"
     ]
    },
    {
     "name": "stdout",
     "output_type": "stream",
     "text": [
      "155/155 [==============================] - 469s 3s/step - loss: 1.4675 - categorical_accuracy: 0.4981 - val_loss: 1.7195 - val_categorical_accuracy: 0.4414\n",
      "Epoch 14/25\n",
      "155/155 [==============================] - 446s 3s/step - loss: 1.4624 - categorical_accuracy: 0.4980 - val_loss: 2.0055 - val_categorical_accuracy: 0.3854\n",
      "Epoch 15/25\n",
      "155/155 [==============================] - 467s 3s/step - loss: 1.5386 - categorical_accuracy: 0.4748 - val_loss: 1.9831 - val_categorical_accuracy: 0.4175\n",
      "Epoch 16/25\n",
      "155/155 [==============================] - 490s 3s/step - loss: 1.4267 - categorical_accuracy: 0.5147 - val_loss: 2.8911 - val_categorical_accuracy: 0.3577\n",
      "Epoch 17/25\n",
      "155/155 [==============================] - 476s 3s/step - loss: 1.3752 - categorical_accuracy: 0.5295 - val_loss: 2.1731 - val_categorical_accuracy: 0.3945\n",
      "Epoch 18/25\n",
      "155/155 [==============================] - 468s 3s/step - loss: 1.3237 - categorical_accuracy: 0.5478 - val_loss: 1.8575 - val_categorical_accuracy: 0.4297\n",
      "Epoch 19/25\n",
      "155/155 [==============================] - 468s 3s/step - loss: 1.3142 - categorical_accuracy: 0.5504 - val_loss: 2.0392 - val_categorical_accuracy: 0.4006\n",
      "Epoch 20/25\n",
      "155/155 [==============================] - 463s 3s/step - loss: 1.2857 - categorical_accuracy: 0.5617 - val_loss: 2.2407 - val_categorical_accuracy: 0.3854\n",
      "Epoch 21/25\n",
      "155/155 [==============================] - ETA: 0s - loss: 1.2464 - categorical_accuracy: 0.5757"
     ]
    },
    {
     "name": "stderr",
     "output_type": "stream",
     "text": [
      "WARNING:absl:Found untraced functions such as _jit_compiled_convolution_op, _jit_compiled_convolution_op, _jit_compiled_convolution_op, _jit_compiled_convolution_op, _jit_compiled_convolution_op while saving (showing 5 of 53). These functions will not be directly callable after loading.\n"
     ]
    },
    {
     "name": "stdout",
     "output_type": "stream",
     "text": [
      "INFO:tensorflow:Assets written to: online_test/models/img_size-224-batch_size-64-init_filter-64-epoch-25-revised-best-model.online_test/assets\n"
     ]
    },
    {
     "name": "stderr",
     "output_type": "stream",
     "text": [
      "INFO:tensorflow:Assets written to: online_test/models/img_size-224-batch_size-64-init_filter-64-epoch-25-revised-best-model.online_test/assets\n"
     ]
    },
    {
     "name": "stdout",
     "output_type": "stream",
     "text": [
      "155/155 [==============================] - 478s 3s/step - loss: 1.2464 - categorical_accuracy: 0.5757 - val_loss: 1.7447 - val_categorical_accuracy: 0.4586\n",
      "Epoch 22/25\n",
      "155/155 [==============================] - ETA: 0s - loss: 1.2607 - categorical_accuracy: 0.5703"
     ]
    },
    {
     "name": "stderr",
     "output_type": "stream",
     "text": [
      "WARNING:absl:Found untraced functions such as _jit_compiled_convolution_op, _jit_compiled_convolution_op, _jit_compiled_convolution_op, _jit_compiled_convolution_op, _jit_compiled_convolution_op while saving (showing 5 of 53). These functions will not be directly callable after loading.\n"
     ]
    },
    {
     "name": "stdout",
     "output_type": "stream",
     "text": [
      "INFO:tensorflow:Assets written to: online_test/models/img_size-224-batch_size-64-init_filter-64-epoch-25-revised-best-model.online_test/assets\n"
     ]
    },
    {
     "name": "stderr",
     "output_type": "stream",
     "text": [
      "INFO:tensorflow:Assets written to: online_test/models/img_size-224-batch_size-64-init_filter-64-epoch-25-revised-best-model.online_test/assets\n"
     ]
    },
    {
     "name": "stdout",
     "output_type": "stream",
     "text": [
      "155/155 [==============================] - 470s 3s/step - loss: 1.2607 - categorical_accuracy: 0.5703 - val_loss: 1.7214 - val_categorical_accuracy: 0.4671\n",
      "Epoch 23/25\n",
      "155/155 [==============================] - ETA: 0s - loss: 1.2116 - categorical_accuracy: 0.5811"
     ]
    },
    {
     "name": "stderr",
     "output_type": "stream",
     "text": [
      "WARNING:absl:Found untraced functions such as _jit_compiled_convolution_op, _jit_compiled_convolution_op, _jit_compiled_convolution_op, _jit_compiled_convolution_op, _jit_compiled_convolution_op while saving (showing 5 of 53). These functions will not be directly callable after loading.\n"
     ]
    },
    {
     "name": "stdout",
     "output_type": "stream",
     "text": [
      "INFO:tensorflow:Assets written to: online_test/models/img_size-224-batch_size-64-init_filter-64-epoch-25-revised-best-model.online_test/assets\n"
     ]
    },
    {
     "name": "stderr",
     "output_type": "stream",
     "text": [
      "INFO:tensorflow:Assets written to: online_test/models/img_size-224-batch_size-64-init_filter-64-epoch-25-revised-best-model.online_test/assets\n"
     ]
    },
    {
     "name": "stdout",
     "output_type": "stream",
     "text": [
      "155/155 [==============================] - 467s 3s/step - loss: 1.2116 - categorical_accuracy: 0.5811 - val_loss: 1.6011 - val_categorical_accuracy: 0.5201\n",
      "Epoch 24/25\n",
      "155/155 [==============================] - 452s 3s/step - loss: 1.1779 - categorical_accuracy: 0.5905 - val_loss: 3.4645 - val_categorical_accuracy: 0.2668\n",
      "Epoch 25/25\n",
      "155/155 [==============================] - 451s 3s/step - loss: 1.1676 - categorical_accuracy: 0.5983 - val_loss: 1.9749 - val_categorical_accuracy: 0.4536\n"
     ]
    },
    {
     "data": {
      "text/plain": [
       "<keras.callbacks.History at 0x2cee97310>"
      ]
     },
     "execution_count": 81,
     "metadata": {},
     "output_type": "execute_result"
    }
   ],
   "source": [
    "run_name = 'img_size-'+str(img_size)+'-batch_size-'+str(batch_size)+'-init_filter-'+str(init_filter)+'-epoch-'+str(epoch)+features\n",
    "model_dir = 'online_test/models' \n",
    "os.makedirs(model_dir,exist_ok=True) \n",
    "\n",
    "# 儲存訓練記錄檔\n",
    "logfiles = 'online_test-logs/{}'.format(run_name)\n",
    "model_cbk = keras.callbacks.TensorBoard(log_dir=logfiles, \n",
    "                                        histogram_freq=1)\n",
    "# 儲存最好的網路模型權重\n",
    "modelfiles = model_dir + '/{}-best-model.online_test'.format(run_name)\n",
    "model_mckp = keras.callbacks.ModelCheckpoint(modelfiles, \n",
    "                                             monitor='val_categorical_accuracy', \n",
    "                                             save_best_only=True, \n",
    "                                             mode='max')\n",
    "\n",
    "# 設定訓練使用的優化器、損失函數和指標函數\n",
    "model.compile(loss=tf.keras.losses.categorical_crossentropy,\n",
    "              optimizer=keras.optimizers.Adam(),\n",
    "              metrics=[keras.metrics.CategoricalAccuracy()])\n",
    "\n",
    "# 訓練網路模型\n",
    "model.fit(train_set,\n",
    "          epochs=epoch, \n",
    "          validation_data=valid_set,\n",
    "          callbacks=[model_cbk, model_mckp])\n"
   ]
  },
  {
   "cell_type": "code",
   "execution_count": 33,
   "id": "e0c4fc72",
   "metadata": {
    "scrolled": true
   },
   "outputs": [
    {
     "data": {
      "text/plain": [
       "Reusing TensorBoard on port 6006 (pid 97103), started 1 day, 4:37:40 ago. (Use '!kill 97103' to kill it.)"
      ]
     },
     "metadata": {},
     "output_type": "display_data"
    },
    {
     "data": {
      "text/html": [
       "\n",
       "      <iframe id=\"tensorboard-frame-2fd96cb71e9dfee2\" width=\"100%\" height=\"800\" frameborder=\"0\">\n",
       "      </iframe>\n",
       "      <script>\n",
       "        (function() {\n",
       "          const frame = document.getElementById(\"tensorboard-frame-2fd96cb71e9dfee2\");\n",
       "          const url = new URL(\"/\", window.location);\n",
       "          const port = 6006;\n",
       "          if (port) {\n",
       "            url.port = port;\n",
       "          }\n",
       "          frame.src = url;\n",
       "        })();\n",
       "      </script>\n",
       "    "
      ],
      "text/plain": [
       "<IPython.core.display.HTML object>"
      ]
     },
     "metadata": {},
     "output_type": "display_data"
    }
   ],
   "source": [
    "%load_ext tensorboard\n",
    "%tensorboard --logdir online_test-logs"
   ]
  },
  {
   "cell_type": "code",
   "execution_count": 82,
   "id": "ffac81db",
   "metadata": {},
   "outputs": [
    {
     "name": "stderr",
     "output_type": "stream",
     "text": [
      "2022-09-05 21:49:10.188697: W tensorflow/core/util/tensor_slice_reader.cc:96] Could not open online_test/models/img_size-224-batch_size-64-init_filter-64-epoch-25-revised-best-model.online_test: FAILED_PRECONDITION: online_test/models/img_size-224-batch_size-64-init_filter-64-epoch-25-revised-best-model.online_test; Is a directory: perhaps your file is in a different file format and you need to use a different restore operator?\n"
     ]
    },
    {
     "name": "stdout",
     "output_type": "stream",
     "text": [
      "53/53 [==============================] - 36s 670ms/step - loss: 1.4985 - categorical_accuracy: 0.5372\n"
     ]
    }
   ],
   "source": [
    "#評估網路模型效果\n",
    "model.load_weights(modelfiles)\n",
    "loss, acc = model.evaluate(test_set)"
   ]
  }
 ],
 "metadata": {
  "kernelspec": {
   "display_name": "tf26",
   "language": "python",
   "name": "tf26"
  },
  "language_info": {
   "codemirror_mode": {
    "name": "ipython",
    "version": 3
   },
   "file_extension": ".py",
   "mimetype": "text/x-python",
   "name": "python",
   "nbconvert_exporter": "python",
   "pygments_lexer": "ipython3",
   "version": "3.9.0"
  }
 },
 "nbformat": 4,
 "nbformat_minor": 5
}
